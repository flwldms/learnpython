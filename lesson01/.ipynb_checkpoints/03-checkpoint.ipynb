{
 "cells": [
  {
   "cell_type": "code",
   "execution_count": 9,
   "id": "apart-trouble",
   "metadata": {},
   "outputs": [
    {
     "name": "stdout",
     "output_type": "stream",
     "text": [
      "a :3\n",
      "b :4\n",
      "7\n"
     ]
    }
   ],
   "source": [
    "a = int(input(\"a :\"))\n",
    "b = int(input(\"b :\"))\n",
    "result = a + b\n",
    "print(result)"
   ]
  },
  {
   "cell_type": "code",
   "execution_count": 16,
   "id": "moved-karaoke",
   "metadata": {},
   "outputs": [
    {
     "name": "stdout",
     "output_type": "stream",
     "text": [
      "태여난해는? :2001\n",
      "2001 년에 태여난 당신은 20살입니다\n"
     ]
    }
   ],
   "source": [
    "birthYear = int(input(\"태여난해는? :\"))\n",
    "thisYear = 2021\n",
    "age = thisYear - birthYear\n",
    "print(str(birthYear) + \" 년에 태여난 당신은 \" + str(age) + \"살입니다\")"
   ]
  },
  {
   "cell_type": "code",
   "execution_count": 20,
   "id": "substantial-procedure",
   "metadata": {},
   "outputs": [
    {
     "name": "stdout",
     "output_type": "stream",
     "text": [
      "20\n",
      "24\n",
      "14\n",
      "20.000000\n"
     ]
    }
   ],
   "source": [
    "a = 20\n",
    "print(\"%d\"%a)   #10진수\n",
    "print(\"%o\"%a)   #8진수\n",
    "print(\"%x\"%a)   #16진수\n",
    "print(\"%f\"%a)   #실수"
   ]
  },
  {
   "cell_type": "code",
   "execution_count": 29,
   "id": "liberal-disney",
   "metadata": {},
   "outputs": [
    {
     "name": "stdout",
     "output_type": "stream",
     "text": [
      "00000000\n",
      "   20\n",
      " 20.0\n",
      "24\n",
      "14\n"
     ]
    }
   ],
   "source": [
    "a = 20\n",
    "print(\"00000000\")\n",
    "print(\"%5d\"%a)   #10진수\n",
    "print(\"%5.1f\"%a)   #실수\n",
    "print(\"%o\"%a)   #8진수\n",
    "print(\"%x\"%a)   #16진수"
   ]
  },
  {
   "cell_type": "code",
   "execution_count": 24,
   "id": "varied-duncan",
   "metadata": {},
   "outputs": [
    {
     "name": "stdout",
     "output_type": "stream",
     "text": [
      "korea 2021\n"
     ]
    }
   ],
   "source": [
    "print(\"{0} {1}\".format(\"korea\",\"2021\"))"
   ]
  },
  {
   "cell_type": "code",
   "execution_count": 27,
   "id": "immune-toddler",
   "metadata": {},
   "outputs": [
    {
     "name": "stdout",
     "output_type": "stream",
     "text": [
      "한국 \n",
      "아이티전문\t학원\n"
     ]
    }
   ],
   "source": [
    "print(\"한국 \\n아이티전문\\t학원\")"
   ]
  },
  {
   "cell_type": "code",
   "execution_count": 26,
   "id": "moral-history",
   "metadata": {},
   "outputs": [
    {
     "name": "stdout",
     "output_type": "stream",
     "text": [
      "1234567890123456789\n",
      "20   20\n"
     ]
    }
   ],
   "source": [
    "print(\"1234567890123456789\")\n",
    "print(\"{0}{1:5}\".format(a,a))"
   ]
  },
  {
   "cell_type": "code",
   "execution_count": 36,
   "id": "another-palestine",
   "metadata": {},
   "outputs": [
    {
     "name": "stdout",
     "output_type": "stream",
     "text": [
      "섭씨온도를 입력 :0\n",
      "섭씨온도\n",
      " 0.00\n",
      "화씨온도\n",
      "32.00\n"
     ]
    }
   ],
   "source": [
    "C = int(input(\"섭씨온도를 입력 :\"))\n",
    "F = C * int(1.8) + int(32)\n",
    "print(\"섭씨온도\")\n",
    "print(\"%5.2f\"%C)\n",
    "print(\"화씨온도\")\n",
    "print(\"%5.2f\"%F)"
   ]
  },
  {
   "cell_type": "code",
   "execution_count": 38,
   "id": "flush-colors",
   "metadata": {},
   "outputs": [
    {
     "name": "stdout",
     "output_type": "stream",
     "text": [
      "3.3333333333333335\n",
      "3\n"
     ]
    }
   ],
   "source": [
    "print(10/3)\n",
    "print(10//3)"
   ]
  },
  {
   "cell_type": "code",
   "execution_count": 39,
   "id": "reflected-worship",
   "metadata": {},
   "outputs": [
    {
     "name": "stdout",
     "output_type": "stream",
     "text": [
      "1\n"
     ]
    }
   ],
   "source": [
    "print(10 % 3)"
   ]
  },
  {
   "cell_type": "code",
   "execution_count": 41,
   "id": "amended-arizona",
   "metadata": {},
   "outputs": [
    {
     "name": "stdout",
     "output_type": "stream",
     "text": [
      "9\n"
     ]
    }
   ],
   "source": [
    "print(3**2)"
   ]
  },
  {
   "cell_type": "code",
   "execution_count": 42,
   "id": "complicated-vegetation",
   "metadata": {},
   "outputs": [
    {
     "name": "stdout",
     "output_type": "stream",
     "text": [
      "27\n"
     ]
    }
   ],
   "source": [
    "print(3**3)"
   ]
  },
  {
   "cell_type": "code",
   "execution_count": 56,
   "id": "optional-monte",
   "metadata": {},
   "outputs": [
    {
     "name": "stdout",
     "output_type": "stream",
     "text": [
      "반지름 :10\n",
      "314.15000000000003\n"
     ]
    }
   ],
   "source": [
    "r = float(input(\"반지름 :\"))\n",
    "pl = 3.1415\n",
    "면적 = pl * int(r)**2\n",
    "print(면적)"
   ]
  },
  {
   "cell_type": "code",
   "execution_count": null,
   "id": "surface-laugh",
   "metadata": {},
   "outputs": [],
   "source": []
  }
 ],
 "metadata": {
  "kernelspec": {
   "display_name": "Python 3",
   "language": "python",
   "name": "python3"
  },
  "language_info": {
   "codemirror_mode": {
    "name": "ipython",
    "version": 3
   },
   "file_extension": ".py",
   "mimetype": "text/x-python",
   "name": "python",
   "nbconvert_exporter": "python",
   "pygments_lexer": "ipython3",
   "version": "3.9.1"
  }
 },
 "nbformat": 4,
 "nbformat_minor": 5
}
