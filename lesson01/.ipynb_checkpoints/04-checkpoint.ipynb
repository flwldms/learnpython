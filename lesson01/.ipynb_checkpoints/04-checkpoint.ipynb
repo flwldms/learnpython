{
 "cells": [
  {
   "cell_type": "markdown",
   "id": "wired-norway",
   "metadata": {},
   "source": [
    "**배열**:변수명 하나를 이용하여 여러 데이터를 다루는 방법.연속된 기억장소  \n",
    "**배열의 선언**:배열명[요소의 크기 또는 개수]  \n",
    "예를 들어    int성적[10]  \n",
    "    성적[0] = 100  \n",
    "    성적[1] = 98  \n",
    "    ...  \n",
    "    성적[9] = 100  "
   ]
  },
  {
   "cell_type": "code",
   "execution_count": 1,
   "id": "premium-lewis",
   "metadata": {},
   "outputs": [],
   "source": [
    "# 리스트 생성하기\n",
    "# 리스트의 이름 = [값의 목록],리스트의 이름 = list()\n",
    "lst = [1,2,3,4,5] "
   ]
  },
  {
   "cell_type": "code",
   "execution_count": 2,
   "id": "lasting-thanks",
   "metadata": {},
   "outputs": [
    {
     "name": "stdout",
     "output_type": "stream",
     "text": [
      "[1, 2, 3, 4, 5]\n"
     ]
    }
   ],
   "source": [
    "print(lst)"
   ]
  },
  {
   "cell_type": "code",
   "execution_count": 4,
   "id": "naughty-antique",
   "metadata": {},
   "outputs": [
    {
     "data": {
      "text/plain": [
       "1"
      ]
     },
     "execution_count": 4,
     "metadata": {},
     "output_type": "execute_result"
    }
   ],
   "source": [
    "lst[0]  #리스트의 개별 요소에 대한 접근 : 리스트이름 [인덱스]"
   ]
  },
  {
   "cell_type": "code",
   "execution_count": 5,
   "id": "processed-witch",
   "metadata": {},
   "outputs": [
    {
     "data": {
      "text/plain": [
       "5"
      ]
     },
     "execution_count": 5,
     "metadata": {},
     "output_type": "execute_result"
    }
   ],
   "source": [
    "lst[4]"
   ]
  },
  {
   "cell_type": "code",
   "execution_count": 6,
   "id": "piano-guyana",
   "metadata": {},
   "outputs": [
    {
     "data": {
      "text/plain": [
       "5"
      ]
     },
     "execution_count": 6,
     "metadata": {},
     "output_type": "execute_result"
    }
   ],
   "source": [
    "lst[-1]"
   ]
  },
  {
   "cell_type": "code",
   "execution_count": 12,
   "id": "caring-testimony",
   "metadata": {},
   "outputs": [],
   "source": [
    "# 리스트의 이름  = list()\n",
    "lst2 = list(range(5))   # range(숫자): 0~ 숫자까지의 범위의 수를 생성해주는 에서드\n",
    "                        # range(1,5):  1~(5-1)까지의 범위의...\n",
    "                        # range(1,11,2):2는 2씩증가"
   ]
  },
  {
   "cell_type": "code",
   "execution_count": 13,
   "id": "removable-plymouth",
   "metadata": {},
   "outputs": [
    {
     "data": {
      "text/plain": [
       "[0, 1, 2, 3, 4]"
      ]
     },
     "execution_count": 13,
     "metadata": {},
     "output_type": "execute_result"
    }
   ],
   "source": [
    "lst2"
   ]
  },
  {
   "cell_type": "code",
   "execution_count": 17,
   "id": "other-literature",
   "metadata": {},
   "outputs": [
    {
     "data": {
      "text/plain": [
       "0"
      ]
     },
     "execution_count": 17,
     "metadata": {},
     "output_type": "execute_result"
    }
   ],
   "source": [
    "lst2[0]"
   ]
  },
  {
   "cell_type": "code",
   "execution_count": 18,
   "id": "pleased-energy",
   "metadata": {},
   "outputs": [],
   "source": [
    "lst3 = list(range(1,9999,7))"
   ]
  },
  {
   "cell_type": "code",
   "execution_count": 25,
   "id": "searching-turner",
   "metadata": {},
   "outputs": [
    {
     "data": {
      "text/plain": [
       "[78, 85]"
      ]
     },
     "execution_count": 25,
     "metadata": {},
     "output_type": "execute_result"
    }
   ],
   "source": [
    "lst3[11:13]  #  11부터13번째(리스트의 슬라이싱[:]콜론을 사용해서 영역을 지정할수있다)\n",
    "             #콜론앞뒤에 0 은 생략할수 있다."
   ]
  },
  {
   "cell_type": "code",
   "execution_count": 26,
   "id": "ultimate-quality",
   "metadata": {},
   "outputs": [
    {
     "data": {
      "text/plain": [
       "[1, 8, 15, 22]"
      ]
     },
     "execution_count": 26,
     "metadata": {},
     "output_type": "execute_result"
    }
   ],
   "source": [
    "lst3[:4]"
   ]
  },
  {
   "cell_type": "code",
   "execution_count": 23,
   "id": "animated-mineral",
   "metadata": {},
   "outputs": [
    {
     "data": {
      "text/plain": [
       "1429"
      ]
     },
     "execution_count": 23,
     "metadata": {},
     "output_type": "execute_result"
    }
   ],
   "source": [
    "#리스트의 길이를 구하는것\n",
    "len(lst3)           #리스트의 크기, 요소의 갯수를 확인하는 메서드,len(리스트이름)"
   ]
  },
  {
   "cell_type": "code",
   "execution_count": 27,
   "id": "dominican-content",
   "metadata": {},
   "outputs": [
    {
     "data": {
      "text/plain": [
       "[9934, 9941, 9948, 9955, 9962, 9969, 9976, 9983, 9990, 9997]"
      ]
     },
     "execution_count": 27,
     "metadata": {},
     "output_type": "execute_result"
    }
   ],
   "source": [
    "lst3[-10:]"
   ]
  },
  {
   "cell_type": "code",
   "execution_count": 32,
   "id": "together-disease",
   "metadata": {},
   "outputs": [],
   "source": [
    "lst4 = list(range(1,20,3))"
   ]
  },
  {
   "cell_type": "code",
   "execution_count": 38,
   "id": "lesbian-detector",
   "metadata": {},
   "outputs": [
    {
     "data": {
      "text/plain": [
       "[10, 13, 16, 19]"
      ]
     },
     "execution_count": 38,
     "metadata": {},
     "output_type": "execute_result"
    }
   ],
   "source": [
    "lst4[3:]"
   ]
  },
  {
   "cell_type": "code",
   "execution_count": 39,
   "id": "medieval-infection",
   "metadata": {},
   "outputs": [
    {
     "data": {
      "text/plain": [
       "[10, 16]"
      ]
     },
     "execution_count": 39,
     "metadata": {},
     "output_type": "execute_result"
    }
   ],
   "source": [
    "lst4[3::2]  "
   ]
  },
  {
   "cell_type": "code",
   "execution_count": 41,
   "id": "excellent-video",
   "metadata": {},
   "outputs": [
    {
     "data": {
      "text/plain": [
       "[1, 4, 7, 10, 13, 16, 19]"
      ]
     },
     "execution_count": 41,
     "metadata": {},
     "output_type": "execute_result"
    }
   ],
   "source": [
    "lst4[:]"
   ]
  },
  {
   "cell_type": "code",
   "execution_count": 42,
   "id": "outstanding-recipe",
   "metadata": {},
   "outputs": [],
   "source": [
    "lst4[2] = 77"
   ]
  },
  {
   "cell_type": "code",
   "execution_count": 45,
   "id": "second-concept",
   "metadata": {},
   "outputs": [
    {
     "data": {
      "text/plain": [
       "[1, 4, 77, 10, 13, 16, 19]"
      ]
     },
     "execution_count": 45,
     "metadata": {},
     "output_type": "execute_result"
    }
   ],
   "source": [
    "lst4"
   ]
  },
  {
   "cell_type": "code",
   "execution_count": 46,
   "id": "selective-extraction",
   "metadata": {},
   "outputs": [],
   "source": [
    "tpl = tuple(range(1,11,2))    #튜플"
   ]
  },
  {
   "cell_type": "code",
   "execution_count": 47,
   "id": "unexpected-round",
   "metadata": {},
   "outputs": [
    {
     "data": {
      "text/plain": [
       "(1, 3, 5, 7, 9)"
      ]
     },
     "execution_count": 47,
     "metadata": {},
     "output_type": "execute_result"
    }
   ],
   "source": [
    "tpl"
   ]
  },
  {
   "cell_type": "code",
   "execution_count": 103,
   "id": "boxed-reception",
   "metadata": {},
   "outputs": [
    {
     "data": {
      "text/plain": [
       "5"
      ]
     },
     "execution_count": 103,
     "metadata": {},
     "output_type": "execute_result"
    }
   ],
   "source": [
    "tpl[2]"
   ]
  },
  {
   "cell_type": "markdown",
   "id": "foster-acquisition",
   "metadata": {},
   "source": [
    "# 딕셔너리 \n",
    "### 키와 값의 연관에 의한 접근 "
   ]
  },
  {
   "cell_type": "code",
   "execution_count": 2,
   "id": "wooden-suffering",
   "metadata": {},
   "outputs": [],
   "source": [
    "student1 = {'name':'홍길동','address':'청주시 상당구'}\n",
    "student2 = {'name':'갑순이','address':'청주시 흥덕구'}"
   ]
  },
  {
   "cell_type": "code",
   "execution_count": 3,
   "id": "norwegian-silly",
   "metadata": {},
   "outputs": [
    {
     "data": {
      "text/plain": [
       "'홍길동'"
      ]
     },
     "execution_count": 3,
     "metadata": {},
     "output_type": "execute_result"
    }
   ],
   "source": [
    "student1['name']"
   ]
  },
  {
   "cell_type": "code",
   "execution_count": 4,
   "id": "computational-arena",
   "metadata": {},
   "outputs": [],
   "source": [
    "student1['phone'] = '010-1234-4567'          #값 추가"
   ]
  },
  {
   "cell_type": "code",
   "execution_count": 6,
   "id": "centered-india",
   "metadata": {},
   "outputs": [
    {
     "name": "stdout",
     "output_type": "stream",
     "text": [
      "{'name': '홍길동', 'address': '청주시 상당구', 'phone': '010-1234-4567'}\n"
     ]
    }
   ],
   "source": [
    "print(student1)"
   ]
  },
  {
   "cell_type": "code",
   "execution_count": 7,
   "id": "liked-breathing",
   "metadata": {},
   "outputs": [],
   "source": [
    "student1['address'] = '청주시 서원구'      # 값수정"
   ]
  },
  {
   "cell_type": "code",
   "execution_count": 8,
   "id": "assumed-robinson",
   "metadata": {},
   "outputs": [
    {
     "name": "stdout",
     "output_type": "stream",
     "text": [
      "{'name': '홍길동', 'address': '청주시 서원구', 'phone': '010-1234-4567'}\n"
     ]
    }
   ],
   "source": [
    "print(student1)      "
   ]
  },
  {
   "cell_type": "code",
   "execution_count": 9,
   "id": "proof-transport",
   "metadata": {},
   "outputs": [],
   "source": [
    "del student1['address']   # 값 제거"
   ]
  },
  {
   "cell_type": "code",
   "execution_count": 10,
   "id": "extended-parliament",
   "metadata": {},
   "outputs": [
    {
     "name": "stdout",
     "output_type": "stream",
     "text": [
      "{'name': '홍길동', 'phone': '010-1234-4567'}\n"
     ]
    }
   ],
   "source": [
    "print(student1)"
   ]
  },
  {
   "cell_type": "code",
   "execution_count": 11,
   "id": "overall-favor",
   "metadata": {},
   "outputs": [
    {
     "ename": "KeyError",
     "evalue": "'address'",
     "output_type": "error",
     "traceback": [
      "\u001b[1;31m---------------------------------------------------------------------------\u001b[0m",
      "\u001b[1;31mKeyError\u001b[0m                                  Traceback (most recent call last)",
      "\u001b[1;32m<ipython-input-11-b9f737ab785a>\u001b[0m in \u001b[0;36m<module>\u001b[1;34m\u001b[0m\n\u001b[1;32m----> 1\u001b[1;33m \u001b[0mstudent1\u001b[0m\u001b[1;33m[\u001b[0m\u001b[1;34m'address'\u001b[0m\u001b[1;33m]\u001b[0m\u001b[1;33m\u001b[0m\u001b[1;33m\u001b[0m\u001b[0m\n\u001b[0m",
      "\u001b[1;31mKeyError\u001b[0m: 'address'"
     ]
    }
   ],
   "source": [
    "student1['address']"
   ]
  },
  {
   "cell_type": "code",
   "execution_count": 12,
   "id": "burning-professional",
   "metadata": {},
   "outputs": [
    {
     "name": "stdout",
     "output_type": "stream",
     "text": [
      "address키는 삭제되였습니다\n"
     ]
    }
   ],
   "source": [
    "# 오류를 방지하고,키가 없을때 지정된 값을반환하도록한다\n",
    "result = student1.get('address','address키는 삭제되였습니다')  \n",
    "print(result)"
   ]
  },
  {
   "cell_type": "code",
   "execution_count": 15,
   "id": "molecular-refund",
   "metadata": {},
   "outputs": [
    {
     "name": "stdout",
     "output_type": "stream",
     "text": [
      "010-1234-4567\n"
     ]
    }
   ],
   "source": [
    "result = student1.get('phone','phone키는 삭제되였습니다')\n",
    "print(result)"
   ]
  },
  {
   "cell_type": "code",
   "execution_count": 16,
   "id": "considerable-phrase",
   "metadata": {},
   "outputs": [
    {
     "name": "stdout",
     "output_type": "stream",
     "text": [
      "\n",
      "key:name\n",
      "Value:홍길동\n",
      "\n",
      "key:phone\n",
      "Value:010-1234-4567\n"
     ]
    }
   ],
   "source": [
    "for key, value in student1.items():\n",
    "    print(f\"\\nkey:{key}\")\n",
    "    print(f\"Value:{value}\")"
   ]
  },
  {
   "cell_type": "code",
   "execution_count": 17,
   "id": "municipal-passage",
   "metadata": {},
   "outputs": [
    {
     "name": "stdout",
     "output_type": "stream",
     "text": [
      "\n",
      "key:name\n",
      "Value:갑순이\n",
      "\n",
      "key:address\n",
      "Value:청주시 흥덕구\n"
     ]
    }
   ],
   "source": [
    "for key, value in student2.items():\n",
    "    print(f\"\\nkey:{key}\")\n",
    "    print(f\"Value:{value}\")"
   ]
  },
  {
   "cell_type": "code",
   "execution_count": 20,
   "id": "legendary-brown",
   "metadata": {},
   "outputs": [
    {
     "name": "stdout",
     "output_type": "stream",
     "text": [
      "\n",
      "Jen's favorite language are:\n",
      "\tPython\n",
      "\tRuby\n",
      "\n",
      "Sarah's favorite language are:\n",
      "\tC\n",
      "\n",
      "Edward's favorite language are:\n",
      "\tRuby\n",
      "\tGo\n",
      "\n",
      "Phil's favorite language are:\n",
      "\tPython\n",
      "\tHaskell\n"
     ]
    }
   ],
   "source": [
    "favorite_languages = {\n",
    "    'jen':['python','ruby'],\n",
    "    'sarah':['c'],\n",
    "    'edward':['ruby','go'],\n",
    "    'phil':['python','haskell'],\n",
    "}\n",
    "for name,languages in favorite_languages.items():\n",
    "    print(f\"\\n{name.title()}'s favorite language are:\")\n",
    "    for language in languages:\n",
    "        print(f\"\\t{language.title()}\")"
   ]
  },
  {
   "cell_type": "code",
   "execution_count": null,
   "id": "ready-mounting",
   "metadata": {},
   "outputs": [],
   "source": []
  },
  {
   "cell_type": "code",
   "execution_count": null,
   "id": "alike-classic",
   "metadata": {},
   "outputs": [],
   "source": []
  },
  {
   "cell_type": "code",
   "execution_count": null,
   "id": "maritime-cyprus",
   "metadata": {},
   "outputs": [],
   "source": []
  },
  {
   "cell_type": "markdown",
   "id": "deluxe-disability",
   "metadata": {},
   "source": [
    "**연속된 데이터를 취급하는 두가지 방법 :**  \n",
    "[리스트] - 요소의 수정,삭제가 가능  \n",
    "(튜플)   - 요소의 수정 삭제가 불가능  "
   ]
  },
  {
   "cell_type": "code",
   "execution_count": 52,
   "id": "electric-registrar",
   "metadata": {},
   "outputs": [],
   "source": [
    "# 리스트의 더하기(리스트 두개를 합치는것)(not add but conatenate)\n",
    "OddLst = [1,3,5,7,9]\n",
    "EvenLst = [2,4,6,8,10]\n",
    "AllLst = OddLst + EvenLst"
   ]
  },
  {
   "cell_type": "code",
   "execution_count": 53,
   "id": "genuine-reducing",
   "metadata": {},
   "outputs": [
    {
     "data": {
      "text/plain": [
       "[1, 3, 5, 7, 9, 2, 4, 6, 8, 10]"
      ]
     },
     "execution_count": 53,
     "metadata": {},
     "output_type": "execute_result"
    }
   ],
   "source": [
    "AllLst"
   ]
  },
  {
   "cell_type": "code",
   "execution_count": 55,
   "id": "electrical-finance",
   "metadata": {},
   "outputs": [],
   "source": [
    "# 리스트의 반복하기\n",
    "MullLst = OddLst * 3"
   ]
  },
  {
   "cell_type": "code",
   "execution_count": 58,
   "id": "mobile-search",
   "metadata": {
    "scrolled": true
   },
   "outputs": [
    {
     "data": {
      "text/plain": [
       "[1, 3, 5, 7, 9, 1, 3, 5, 7, 9, 1, 3, 5, 7, 9]"
      ]
     },
     "execution_count": 58,
     "metadata": {},
     "output_type": "execute_result"
    }
   ],
   "source": [
    "MullLst"
   ]
  },
  {
   "cell_type": "code",
   "execution_count": 60,
   "id": "planned-jamaica",
   "metadata": {},
   "outputs": [
    {
     "data": {
      "text/plain": [
       "['홍길동', '춘향', '박문수']"
      ]
     },
     "execution_count": 60,
     "metadata": {},
     "output_type": "execute_result"
    }
   ],
   "source": [
    "# 리스트의 새로운항목 추가\n",
    "st = [\"홍길동\",\"춘향\",\"박문수\"]\n",
    "st"
   ]
  },
  {
   "cell_type": "code",
   "execution_count": 70,
   "id": "heated-forum",
   "metadata": {},
   "outputs": [
    {
     "data": {
      "text/plain": [
       "['홍길동', '춘향', '박문수', '이지은', '지은']"
      ]
     },
     "execution_count": 70,
     "metadata": {},
     "output_type": "execute_result"
    }
   ],
   "source": [
    "# 추가\n",
    "# 리스트이름.append()\\\n",
    "st.append(\"지은\")\n",
    "st"
   ]
  },
  {
   "cell_type": "code",
   "execution_count": 71,
   "id": "mounted-posting",
   "metadata": {},
   "outputs": [
    {
     "data": {
      "text/plain": [
       "['홍길동', '춘향', '박문수', '이지은']"
      ]
     },
     "execution_count": 71,
     "metadata": {},
     "output_type": "execute_result"
    }
   ],
   "source": [
    "#리스트 항목 제거\n",
    "#del,pop()   #del은 함수가 아니라 명령어\n",
    "st.pop()\n",
    "st"
   ]
  },
  {
   "cell_type": "code",
   "execution_count": 72,
   "id": "silent-column",
   "metadata": {},
   "outputs": [
    {
     "data": {
      "text/plain": [
       "['홍길동', '춘향', '이지은']"
      ]
     },
     "execution_count": 72,
     "metadata": {},
     "output_type": "execute_result"
    }
   ],
   "source": [
    "del st[2]    #뒤로부터 두번째\n",
    "st"
   ]
  },
  {
   "cell_type": "code",
   "execution_count": 73,
   "id": "loving-chest",
   "metadata": {},
   "outputs": [
    {
     "data": {
      "text/plain": [
       "['홍길동', '을지문덕', '춘향', '이지은']"
      ]
     },
     "execution_count": 73,
     "metadata": {},
     "output_type": "execute_result"
    }
   ],
   "source": [
    "# 리스트에 항목 삽입 [리스트이름.insert()]\n",
    "st.insert(1,\"을지문덕\")\n",
    "st"
   ]
  },
  {
   "cell_type": "code",
   "execution_count": 78,
   "id": "phantom-standing",
   "metadata": {
    "scrolled": true
   },
   "outputs": [
    {
     "ename": "ValueError",
     "evalue": "list.remove(x): x not in list",
     "output_type": "error",
     "traceback": [
      "\u001b[1;31m---------------------------------------------------------------------------\u001b[0m",
      "\u001b[1;31mValueError\u001b[0m                                Traceback (most recent call last)",
      "\u001b[1;32m<ipython-input-78-27bfb888ea0c>\u001b[0m in \u001b[0;36m<module>\u001b[1;34m\u001b[0m\n\u001b[0;32m      1\u001b[0m \u001b[1;31m# 값으로 항목지우기 : 리스트이름.remove()\u001b[0m\u001b[1;33m\u001b[0m\u001b[1;33m\u001b[0m\u001b[1;33m\u001b[0m\u001b[0m\n\u001b[1;32m----> 2\u001b[1;33m \u001b[0mst\u001b[0m\u001b[1;33m.\u001b[0m\u001b[0mremove\u001b[0m\u001b[1;33m(\u001b[0m\u001b[1;34m\"이지은\"\u001b[0m\u001b[1;33m)\u001b[0m\u001b[1;33m\u001b[0m\u001b[1;33m\u001b[0m\u001b[0m\n\u001b[0m\u001b[0;32m      3\u001b[0m \u001b[0mst\u001b[0m\u001b[1;33m\u001b[0m\u001b[1;33m\u001b[0m\u001b[0m\n",
      "\u001b[1;31mValueError\u001b[0m: list.remove(x): x not in list"
     ]
    }
   ],
   "source": [
    "# 값으로 항목지우기 : 리스트이름.remove()\n",
    "st.remove(\"이지은\")\n",
    "st"
   ]
  },
  {
   "cell_type": "code",
   "execution_count": 80,
   "id": "joined-warner",
   "metadata": {},
   "outputs": [
    {
     "data": {
      "text/plain": [
       "['홍길동', '을지문덕', '춘향']"
      ]
     },
     "execution_count": 80,
     "metadata": {},
     "output_type": "execute_result"
    }
   ],
   "source": [
    "st"
   ]
  },
  {
   "cell_type": "code",
   "execution_count": 82,
   "id": "pregnant-cooling",
   "metadata": {},
   "outputs": [
    {
     "data": {
      "text/plain": [
       "['홍길동', '춘향', '을지문덕']"
      ]
     },
     "execution_count": 82,
     "metadata": {},
     "output_type": "execute_result"
    }
   ],
   "source": [
    "# 리스트의 정렬   리스트이름.sort()\n",
    "st.sort(reverse = True)\n",
    "st"
   ]
  },
  {
   "cell_type": "code",
   "execution_count": 83,
   "id": "romantic-ranking",
   "metadata": {},
   "outputs": [
    {
     "name": "stdout",
     "output_type": "stream",
     "text": [
      "홍길동\n",
      "춘향\n",
      "을지문덕\n"
     ]
    }
   ],
   "source": [
    "# 리스트에 대해 루프 실행하기\n",
    "print(st[0])\n",
    "print(st[1])\n",
    "print(st[2])"
   ]
  },
  {
   "cell_type": "code",
   "execution_count": 85,
   "id": "marine-zealand",
   "metadata": {},
   "outputs": [
    {
     "name": "stdout",
     "output_type": "stream",
     "text": [
      "홍길동\n",
      "춘향\n",
      "을지문덕\n"
     ]
    }
   ],
   "source": [
    "for name in st:\n",
    "    print(name)"
   ]
  },
  {
   "cell_type": "code",
   "execution_count": 89,
   "id": "undefined-generator",
   "metadata": {},
   "outputs": [
    {
     "name": "stdout",
     "output_type": "stream",
     "text": [
      "홍길동,hello\n",
      "춘향,hello\n",
      "을지문덕,hello\n"
     ]
    }
   ],
   "source": [
    "for name in st:\n",
    "    print(f\"{name},hello\")"
   ]
  },
  {
   "cell_type": "code",
   "execution_count": 91,
   "id": "signed-telling",
   "metadata": {},
   "outputs": [
    {
     "name": "stdout",
     "output_type": "stream",
     "text": [
      "Alice,that was a great trick!\n",
      "David,that was a great trick!\n",
      "Carolina,that was a great trick!\n"
     ]
    }
   ],
   "source": [
    "magicians = ['alice','david','carolina']\n",
    "for magician in magicians:\n",
    "    print(f\"{magician.title()},that was a great trick!\")"
   ]
  },
  {
   "cell_type": "code",
   "execution_count": 99,
   "id": "christian-company",
   "metadata": {},
   "outputs": [
    {
     "name": "stdout",
     "output_type": "stream",
     "text": [
      "Alice,that was a great trick!\n",
      "I cant't wait to see your next trick,Alice\n",
      "David,that was a great trick!\n",
      "I cant't wait to see your next trick,David\n",
      "Carolina,that was a great trick!\n",
      "I cant't wait to see your next trick,Carolina\n"
     ]
    }
   ],
   "source": [
    "for magician in magicians:\n",
    "    print(f\"{magician.title()},that was a great trick!\")\n",
    "    print(f\"I cant't wait to see your next trick,{magician.title()}\")"
   ]
  },
  {
   "cell_type": "code",
   "execution_count": 101,
   "id": "spatial-webcam",
   "metadata": {},
   "outputs": [
    {
     "name": "stdout",
     "output_type": "stream",
     "text": [
      "Alice,that was a great trick!\n",
      "I cant't wait to see your next trick,Alice\n",
      "thank you\n",
      "David,that was a great trick!\n",
      "I cant't wait to see your next trick,David\n",
      "thank you\n",
      "Carolina,that was a great trick!\n",
      "I cant't wait to see your next trick,Carolina\n",
      "thank you\n"
     ]
    }
   ],
   "source": [
    "for magician in magicians:\n",
    "    print(f\"{magician.title()},that was a great trick!\")\n",
    "    print(f\"I cant't wait to see your next trick,{magician.title()}\")\n",
    "    print(\"thank you\")"
   ]
  },
  {
   "cell_type": "code",
   "execution_count": 107,
   "id": "auburn-hunter",
   "metadata": {},
   "outputs": [
    {
     "name": "stdout",
     "output_type": "stream",
     "text": [
      "F\n",
      "C\n",
      "B\n",
      "A\n",
      "A\n"
     ]
    }
   ],
   "source": [
    "scores = [60,70,80,90,100]\n",
    "for score in scores:\n",
    "    if score >= 90:\n",
    "        print(\"A\")\n",
    "    elif 90>score>=80:\n",
    "        print(\"B\")\n",
    "    elif 80>score>=70:\n",
    "        print(\"C\")\n",
    "    else:\n",
    "        print(\"F\")"
   ]
  },
  {
   "cell_type": "code",
   "execution_count": 21,
   "id": "careful-facial",
   "metadata": {},
   "outputs": [
    {
     "name": "stdout",
     "output_type": "stream",
     "text": [
      "B\n"
     ]
    }
   ],
   "source": [
    "scores = [60,70,80,90,100]\n",
    "total = 0\n",
    "for score in scores:\n",
    "    total += score  # total = total + score\n",
    "\n",
    "avg = total / 5\n",
    "    \n",
    "if avg >= 90:\n",
    "    grade = \"A\"\n",
    "elif avg >= 80:\n",
    "    grade = \"B\"\n",
    "elif avg >= 70:\n",
    "    grade = \"C\"\n",
    "else :\n",
    "    grade = \"F\"\n",
    "\n",
    "print(grade)"
   ]
  },
  {
   "cell_type": "markdown",
   "id": "loaded-library",
   "metadata": {},
   "source": [
    "# while"
   ]
  },
  {
   "cell_type": "markdown",
   "id": "governmental-regular",
   "metadata": {},
   "source": [
    "while 조건식:    \n",
    "    반복문구"
   ]
  },
  {
   "cell_type": "code",
   "execution_count": 25,
   "id": "lesser-spread",
   "metadata": {},
   "outputs": [
    {
     "name": "stdout",
     "output_type": "stream",
     "text": [
      "반복할 횟수를 입력해주새요3\n",
      "0 번째 실행\n",
      "1 번째 실행\n",
      "2 번째 실행\n",
      "반복 종료후 i 값은 3\n"
     ]
    }
   ],
   "source": [
    "cnt = int(input(\"반복할 횟수를 입력해주새요\"))\n",
    "i = 0\n",
    "while i < cnt :\n",
    "    print(i,\"번째 실행\")\n",
    "    i = i+1\n",
    "    \n",
    "print(\"반복 종료후 i 값은\",i)"
   ]
  },
  {
   "cell_type": "code",
   "execution_count": 27,
   "id": "meaningful-anthony",
   "metadata": {},
   "outputs": [
    {
     "name": "stdout",
     "output_type": "stream",
     "text": [
      "1\n",
      "2\n",
      "3\n",
      "4\n",
      "5\n"
     ]
    }
   ],
   "source": [
    "a = 1\n",
    "while a < 6 :\n",
    "    print(a)\n",
    "    a += 1    # a = a + 1"
   ]
  },
  {
   "cell_type": "code",
   "execution_count": 33,
   "id": "colonial-array",
   "metadata": {},
   "outputs": [
    {
     "name": "stdout",
     "output_type": "stream",
     "text": [
      "작업번호를 입력해주세요.0응 입력하면 종료합니다6\n",
      "작업번호를 입력해주세요.0응 입력하면 종료합니다5\n",
      "작업번호를 입력해주세요.0응 입력하면 종료합니다4\n",
      "작업번호를 입력해주세요.0응 입력하면 종료합니다7\n",
      "작업번호를 입력해주세요.0응 입력하면 종료합니다9\n",
      "작업번호를 입력해주세요.0응 입력하면 종료합니다6\n",
      "작업번호를 입력해주세요.0응 입력하면 종료합니다0\n",
      "프로그램을 종료합니다\n"
     ]
    }
   ],
   "source": [
    "job = 999                  # 무한루프\n",
    "while True:\n",
    "    job = int(input(\"작업번호를 입력해주세요.0응 입력하면 종료합니다\"))\n",
    "    if job == 0 : break\n",
    "    else : continue\n",
    "    \n",
    "print(\"프로그램을 종료합니다\")"
   ]
  },
  {
   "cell_type": "code",
   "execution_count": 35,
   "id": "dietary-store",
   "metadata": {
    "scrolled": true
   },
   "outputs": [
    {
     "name": "stdout",
     "output_type": "stream",
     "text": [
      "작업번호를 입력해주세요.0응 입력하면 종료합니다11\n",
      "작업번호를 입력해주세요.0응 입력하면 종료합니다0\n",
      "프로그램을 종료합니다\n"
     ]
    }
   ],
   "source": [
    "job = 999                  \n",
    "while job != 0:\n",
    "    job = int(input(\"작업번호를 입력해주세요.0응 입력하면 종료합니다\"))\n",
    "\n",
    "print(\"프로그램을 종료합니다\")"
   ]
  },
  {
   "cell_type": "code",
   "execution_count": 40,
   "id": "adaptive-tunisia",
   "metadata": {},
   "outputs": [
    {
     "name": "stdout",
     "output_type": "stream",
     "text": [
      "['f', 'e', 'd', 'c', 'b', 'a']\n"
     ]
    }
   ],
   "source": [
    "unconfirmed_users = ['a','b','c','d','e','f']\n",
    "confirmed_users = []\n",
    "\n",
    "while unconfirmed_users:\n",
    "    current_user = unconfirmed_users.pop()\n",
    "    confirmed_users.append(current_user)\n",
    "    \n",
    "print(confirmed_users)"
   ]
  },
  {
   "cell_type": "code",
   "execution_count": 41,
   "id": "applied-manitoba",
   "metadata": {},
   "outputs": [
    {
     "ename": "NameError",
     "evalue": "name 'car' is not defined",
     "output_type": "error",
     "traceback": [
      "\u001b[1;31m---------------------------------------------------------------------------\u001b[0m",
      "\u001b[1;31mNameError\u001b[0m                                 Traceback (most recent call last)",
      "\u001b[1;32m<ipython-input-41-f245c1053c46>\u001b[0m in \u001b[0;36m<module>\u001b[1;34m\u001b[0m\n\u001b[0;32m      1\u001b[0m \u001b[0mcars\u001b[0m \u001b[1;33m=\u001b[0m \u001b[1;33m[\u001b[0m\u001b[1;34m'subaru'\u001b[0m\u001b[1;33m,\u001b[0m\u001b[1;34m'audi'\u001b[0m\u001b[1;33m,\u001b[0m\u001b[1;34m'a'\u001b[0m\u001b[1;33m,\u001b[0m\u001b[1;34m'b'\u001b[0m\u001b[1;33m,\u001b[0m\u001b[1;34m'c'\u001b[0m\u001b[1;33m,\u001b[0m\u001b[1;34m'd'\u001b[0m\u001b[1;33m]\u001b[0m\u001b[1;33m\u001b[0m\u001b[1;33m\u001b[0m\u001b[0m\n\u001b[1;32m----> 2\u001b[1;33m \u001b[1;32mif\u001b[0m \u001b[0mcar\u001b[0m \u001b[1;32min\u001b[0m \u001b[0mcars\u001b[0m\u001b[1;33m:\u001b[0m\u001b[1;33m\u001b[0m\u001b[1;33m\u001b[0m\u001b[0m\n\u001b[0m\u001b[0;32m      3\u001b[0m     \u001b[0mcar\u001b[0m \u001b[1;33m=\u001b[0m \u001b[0minput\u001b[0m\u001b[1;33m(\u001b[0m\u001b[1;34m\"car name\"\u001b[0m\u001b[1;33m)\u001b[0m\u001b[1;33m\u001b[0m\u001b[1;33m\u001b[0m\u001b[0m\n\u001b[0;32m      4\u001b[0m     \u001b[0mcar\u001b[0m \u001b[1;33m==\u001b[0m \u001b[1;34m'subaru'\u001b[0m\u001b[1;33m\u001b[0m\u001b[1;33m\u001b[0m\u001b[0m\n\u001b[0;32m      5\u001b[0m \u001b[1;33m\u001b[0m\u001b[0m\n",
      "\u001b[1;31mNameError\u001b[0m: name 'car' is not defined"
     ]
    }
   ],
   "source": [
    "cars = ['subaru','audi','a','b','c','d']\n",
    "if car in cars:\n",
    "    car = input(\"car name\")\n",
    "    car == 'subaru'\n",
    "    "
   ]
  },
  {
   "cell_type": "code",
   "execution_count": 68,
   "id": "racial-master",
   "metadata": {},
   "outputs": [
    {
     "name": "stdout",
     "output_type": "stream",
     "text": [
      "Is car == 'subaru'? I predict True.\n",
      "True\n",
      "\n",
      "Is car == 'audi'? I predict False.\n",
      "False\n",
      "\n",
      "Is car == 'a'? I predict False.\n",
      "False\n",
      "\n",
      "Is car == 'b'? I predict True.\n",
      "True\n"
     ]
    }
   ],
   "source": [
    "cars= ['subaru','b']\n",
    "print(\"Is car == 'subaru'? I predict True.\")\n",
    "#if car = 'subaru':\n",
    "#    print(True)\n",
    "for car in cars:\n",
    "print(car == 'subaru')\n",
    "print(\"\\nIs car == 'audi'? I predict False.\")\n",
    "print(car == 'audi')\n",
    "print(\"\\nIs car == 'a'? I predict False.\")\n",
    "print(car == 'a')\n",
    "print(\"\\nIs car == 'b'? I predict True.\")\n",
    "print(car == 'b')"
   ]
  },
  {
   "cell_type": "code",
   "execution_count": 63,
   "id": "musical-flower",
   "metadata": {},
   "outputs": [
    {
     "name": "stdout",
     "output_type": "stream",
     "text": [
      "Is car == 'subaru'? I predict True.\n",
      "True\n",
      "\n",
      "Is car == 'audi'? I predict False.\n",
      "False\n"
     ]
    }
   ],
   "source": [
    "car = 'subaru'\n",
    "print(\"Is car == 'subaru'? I predict True.\")\n",
    "print(car == 'subaru')\n",
    "print(\"\\nIs car == 'audi'? I predict False.\")\n",
    "print(car == 'audi')"
   ]
  },
  {
   "cell_type": "code",
   "execution_count": 74,
   "id": "piano-neighbor",
   "metadata": {},
   "outputs": [
    {
     "name": "stdout",
     "output_type": "stream",
     "text": [
      "color:green\n",
      "get 5\n"
     ]
    }
   ],
   "source": [
    "alien_colors = ['grenn','yellow','red']\n",
    "alien_color = input(\"color:\")\n",
    "if 'green' in alien_color:\n",
    "    print(\"get 5\")"
   ]
  },
  {
   "cell_type": "code",
   "execution_count": null,
   "id": "joined-extra",
   "metadata": {},
   "outputs": [],
   "source": [
    "ages = [rang(0:)]\n",
    "for age in ages:\n",
    "    if age <= 2:\n",
    "        a = \"영아\"\n",
    "    elif 2 < age <= 4:\n",
    "        a = \"유아\"\n",
    "    elif 4 < age <= 13:\n",
    "        a = \"아이\"\n",
    "    elif 13 < age <= 20:"
   ]
  }
 ],
 "metadata": {
  "kernelspec": {
   "display_name": "Python 3",
   "language": "python",
   "name": "python3"
  },
  "language_info": {
   "codemirror_mode": {
    "name": "ipython",
    "version": 3
   },
   "file_extension": ".py",
   "mimetype": "text/x-python",
   "name": "python",
   "nbconvert_exporter": "python",
   "pygments_lexer": "ipython3",
   "version": "3.9.1"
  }
 },
 "nbformat": 4,
 "nbformat_minor": 5
}
