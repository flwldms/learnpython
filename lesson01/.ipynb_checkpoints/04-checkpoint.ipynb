{
 "cells": [
  {
   "cell_type": "markdown",
   "id": "wired-norway",
   "metadata": {},
   "source": [
    "**배열**:변수명 하나를 이용하여 여러 데이터를 다루는 방법.연속된 기억장소  \n",
    "**배열의 선언**:배열명[요소의 크기 또는 개수]  \n",
    "예를 들어    int성적[10]  \n",
    "    성적[0] = 100  \n",
    "    성적[1] = 98  \n",
    "    ...  \n",
    "    성적[9] = 100  "
   ]
  },
  {
   "cell_type": "code",
   "execution_count": 1,
   "id": "premium-lewis",
   "metadata": {},
   "outputs": [],
   "source": [
    "# 리스트 생성하기\n",
    "# 리스트의 이름 = [값의 목록],리스트의 이름 = list()\n",
    "lst = [1,2,3,4,5] "
   ]
  },
  {
   "cell_type": "code",
   "execution_count": 2,
   "id": "lasting-thanks",
   "metadata": {},
   "outputs": [
    {
     "name": "stdout",
     "output_type": "stream",
     "text": [
      "[1, 2, 3, 4, 5]\n"
     ]
    }
   ],
   "source": [
    "print(lst)"
   ]
  },
  {
   "cell_type": "code",
   "execution_count": 4,
   "id": "naughty-antique",
   "metadata": {},
   "outputs": [
    {
     "data": {
      "text/plain": [
       "1"
      ]
     },
     "execution_count": 4,
     "metadata": {},
     "output_type": "execute_result"
    }
   ],
   "source": [
    "lst[0]  #리스트의 개별 요소에 대한 접근 : 리스트이름 [인덱스]"
   ]
  },
  {
   "cell_type": "code",
   "execution_count": 5,
   "id": "processed-witch",
   "metadata": {},
   "outputs": [
    {
     "data": {
      "text/plain": [
       "5"
      ]
     },
     "execution_count": 5,
     "metadata": {},
     "output_type": "execute_result"
    }
   ],
   "source": [
    "lst[4]"
   ]
  },
  {
   "cell_type": "code",
   "execution_count": 6,
   "id": "piano-guyana",
   "metadata": {},
   "outputs": [
    {
     "data": {
      "text/plain": [
       "5"
      ]
     },
     "execution_count": 6,
     "metadata": {},
     "output_type": "execute_result"
    }
   ],
   "source": [
    "lst[-1]"
   ]
  },
  {
   "cell_type": "code",
   "execution_count": 12,
   "id": "caring-testimony",
   "metadata": {},
   "outputs": [],
   "source": [
    "# 리스트의 이름  = list()\n",
    "lst2 = list(range(5))   # range(숫자): 0~ 숫자까지의 범위의 수를 생성해주는 에서드\n",
    "                        # range(1,5):  1~(5-1)까지의 범위의...\n",
    "                        # range(1,11,2):2는 2씩증가"
   ]
  },
  {
   "cell_type": "code",
   "execution_count": 13,
   "id": "removable-plymouth",
   "metadata": {},
   "outputs": [
    {
     "data": {
      "text/plain": [
       "[0, 1, 2, 3, 4]"
      ]
     },
     "execution_count": 13,
     "metadata": {},
     "output_type": "execute_result"
    }
   ],
   "source": [
    "lst2"
   ]
  },
  {
   "cell_type": "code",
   "execution_count": 17,
   "id": "other-literature",
   "metadata": {},
   "outputs": [
    {
     "data": {
      "text/plain": [
       "0"
      ]
     },
     "execution_count": 17,
     "metadata": {},
     "output_type": "execute_result"
    }
   ],
   "source": [
    "lst2[0]"
   ]
  },
  {
   "cell_type": "code",
   "execution_count": 18,
   "id": "pleased-energy",
   "metadata": {},
   "outputs": [],
   "source": [
    "lst3 = list(range(1,9999,7))"
   ]
  },
  {
   "cell_type": "code",
   "execution_count": 25,
   "id": "searching-turner",
   "metadata": {},
   "outputs": [
    {
     "data": {
      "text/plain": [
       "[78, 85]"
      ]
     },
     "execution_count": 25,
     "metadata": {},
     "output_type": "execute_result"
    }
   ],
   "source": [
    "lst3[11:13]  #  11부터13번째(리스트의 슬라이싱[:]콜론을 사용해서 영역을 지정할수있다)\n",
    "             #콜론앞뒤에 0 은 생략할수 있다."
   ]
  },
  {
   "cell_type": "code",
   "execution_count": 26,
   "id": "ultimate-quality",
   "metadata": {},
   "outputs": [
    {
     "data": {
      "text/plain": [
       "[1, 8, 15, 22]"
      ]
     },
     "execution_count": 26,
     "metadata": {},
     "output_type": "execute_result"
    }
   ],
   "source": [
    "lst3[:4]"
   ]
  },
  {
   "cell_type": "code",
   "execution_count": 23,
   "id": "animated-mineral",
   "metadata": {},
   "outputs": [
    {
     "data": {
      "text/plain": [
       "1429"
      ]
     },
     "execution_count": 23,
     "metadata": {},
     "output_type": "execute_result"
    }
   ],
   "source": [
    "#리스트의 길이를 구하는것\n",
    "len(lst3)           #리스트의 크기, 요소의 갯수를 확인하는 메서드,len(리스트이름)"
   ]
  },
  {
   "cell_type": "code",
   "execution_count": 27,
   "id": "dominican-content",
   "metadata": {},
   "outputs": [
    {
     "data": {
      "text/plain": [
       "[9934, 9941, 9948, 9955, 9962, 9969, 9976, 9983, 9990, 9997]"
      ]
     },
     "execution_count": 27,
     "metadata": {},
     "output_type": "execute_result"
    }
   ],
   "source": [
    "lst3[-10:]"
   ]
  },
  {
   "cell_type": "code",
   "execution_count": 32,
   "id": "together-disease",
   "metadata": {},
   "outputs": [],
   "source": [
    "lst4 = list(range(1,20,3))"
   ]
  },
  {
   "cell_type": "code",
   "execution_count": 38,
   "id": "lesbian-detector",
   "metadata": {},
   "outputs": [
    {
     "data": {
      "text/plain": [
       "[10, 13, 16, 19]"
      ]
     },
     "execution_count": 38,
     "metadata": {},
     "output_type": "execute_result"
    }
   ],
   "source": [
    "lst4[3:]"
   ]
  },
  {
   "cell_type": "code",
   "execution_count": 39,
   "id": "medieval-infection",
   "metadata": {},
   "outputs": [
    {
     "data": {
      "text/plain": [
       "[10, 16]"
      ]
     },
     "execution_count": 39,
     "metadata": {},
     "output_type": "execute_result"
    }
   ],
   "source": [
    "lst4[3::2]  "
   ]
  },
  {
   "cell_type": "code",
   "execution_count": 41,
   "id": "excellent-video",
   "metadata": {},
   "outputs": [
    {
     "data": {
      "text/plain": [
       "[1, 4, 7, 10, 13, 16, 19]"
      ]
     },
     "execution_count": 41,
     "metadata": {},
     "output_type": "execute_result"
    }
   ],
   "source": [
    "lst4[:]"
   ]
  },
  {
   "cell_type": "code",
   "execution_count": 42,
   "id": "outstanding-recipe",
   "metadata": {},
   "outputs": [],
   "source": [
    "lst4[2] = 77"
   ]
  },
  {
   "cell_type": "code",
   "execution_count": 45,
   "id": "second-concept",
   "metadata": {},
   "outputs": [
    {
     "data": {
      "text/plain": [
       "[1, 4, 77, 10, 13, 16, 19]"
      ]
     },
     "execution_count": 45,
     "metadata": {},
     "output_type": "execute_result"
    }
   ],
   "source": [
    "lst4"
   ]
  },
  {
   "cell_type": "code",
   "execution_count": 46,
   "id": "selective-extraction",
   "metadata": {},
   "outputs": [],
   "source": [
    "tpl = tuple(range(1,11,2))    #튜플"
   ]
  },
  {
   "cell_type": "code",
   "execution_count": 47,
   "id": "unexpected-round",
   "metadata": {},
   "outputs": [
    {
     "data": {
      "text/plain": [
       "(1, 3, 5, 7, 9)"
      ]
     },
     "execution_count": 47,
     "metadata": {},
     "output_type": "execute_result"
    }
   ],
   "source": [
    "tpl"
   ]
  },
  {
   "cell_type": "code",
   "execution_count": 103,
   "id": "boxed-reception",
   "metadata": {},
   "outputs": [
    {
     "data": {
      "text/plain": [
       "5"
      ]
     },
     "execution_count": 103,
     "metadata": {},
     "output_type": "execute_result"
    }
   ],
   "source": [
    "tpl[2]"
   ]
  },
  {
   "cell_type": "code",
   "execution_count": null,
   "id": "responsible-cosmetic",
   "metadata": {},
   "outputs": [],
   "source": []
  },
  {
   "cell_type": "markdown",
   "id": "deluxe-disability",
   "metadata": {},
   "source": [
    "**연속된 데이터를 취급하는 두가지 방법 :**  \n",
    "[리스트] - 요소의 수정,삭제가 가능  \n",
    "(튜플)   - 요소의 수정 삭제가 불가능  "
   ]
  },
  {
   "cell_type": "code",
   "execution_count": 52,
   "id": "electric-registrar",
   "metadata": {},
   "outputs": [],
   "source": [
    "# 리스트의 더하기(리스트 두개를 합치는것)(not add but conatenate)\n",
    "OddLst = [1,3,5,7,9]\n",
    "EvenLst = [2,4,6,8,10]\n",
    "AllLst = OddLst + EvenLst"
   ]
  },
  {
   "cell_type": "code",
   "execution_count": 53,
   "id": "genuine-reducing",
   "metadata": {},
   "outputs": [
    {
     "data": {
      "text/plain": [
       "[1, 3, 5, 7, 9, 2, 4, 6, 8, 10]"
      ]
     },
     "execution_count": 53,
     "metadata": {},
     "output_type": "execute_result"
    }
   ],
   "source": [
    "AllLst"
   ]
  },
  {
   "cell_type": "code",
   "execution_count": 55,
   "id": "electrical-finance",
   "metadata": {},
   "outputs": [],
   "source": [
    "# 리스트의 반복하기\n",
    "MullLst = OddLst * 3"
   ]
  },
  {
   "cell_type": "code",
   "execution_count": 58,
   "id": "mobile-search",
   "metadata": {
    "scrolled": true
   },
   "outputs": [
    {
     "data": {
      "text/plain": [
       "[1, 3, 5, 7, 9, 1, 3, 5, 7, 9, 1, 3, 5, 7, 9]"
      ]
     },
     "execution_count": 58,
     "metadata": {},
     "output_type": "execute_result"
    }
   ],
   "source": [
    "MullLst"
   ]
  },
  {
   "cell_type": "code",
   "execution_count": 60,
   "id": "planned-jamaica",
   "metadata": {},
   "outputs": [
    {
     "data": {
      "text/plain": [
       "['홍길동', '춘향', '박문수']"
      ]
     },
     "execution_count": 60,
     "metadata": {},
     "output_type": "execute_result"
    }
   ],
   "source": [
    "# 리스트의 새로운항목 추가\n",
    "st = [\"홍길동\",\"춘향\",\"박문수\"]\n",
    "st"
   ]
  },
  {
   "cell_type": "code",
   "execution_count": 70,
   "id": "heated-forum",
   "metadata": {},
   "outputs": [
    {
     "data": {
      "text/plain": [
       "['홍길동', '춘향', '박문수', '이지은', '지은']"
      ]
     },
     "execution_count": 70,
     "metadata": {},
     "output_type": "execute_result"
    }
   ],
   "source": [
    "# 추가\n",
    "# 리스트이름.append()\\\n",
    "st.append(\"지은\")\n",
    "st"
   ]
  },
  {
   "cell_type": "code",
   "execution_count": 71,
   "id": "mounted-posting",
   "metadata": {},
   "outputs": [
    {
     "data": {
      "text/plain": [
       "['홍길동', '춘향', '박문수', '이지은']"
      ]
     },
     "execution_count": 71,
     "metadata": {},
     "output_type": "execute_result"
    }
   ],
   "source": [
    "#리스트 항목 제거\n",
    "#del,pop()   #del은 함수가 아니라 명령어\n",
    "st.pop()\n",
    "st"
   ]
  },
  {
   "cell_type": "code",
   "execution_count": 72,
   "id": "silent-column",
   "metadata": {},
   "outputs": [
    {
     "data": {
      "text/plain": [
       "['홍길동', '춘향', '이지은']"
      ]
     },
     "execution_count": 72,
     "metadata": {},
     "output_type": "execute_result"
    }
   ],
   "source": [
    "del st[2]    #뒤로부터 두번째\n",
    "st"
   ]
  },
  {
   "cell_type": "code",
   "execution_count": 73,
   "id": "loving-chest",
   "metadata": {},
   "outputs": [
    {
     "data": {
      "text/plain": [
       "['홍길동', '을지문덕', '춘향', '이지은']"
      ]
     },
     "execution_count": 73,
     "metadata": {},
     "output_type": "execute_result"
    }
   ],
   "source": [
    "# 리스트에 항목 삽입 [리스트이름.insert()]\n",
    "st.insert(1,\"을지문덕\")\n",
    "st"
   ]
  },
  {
   "cell_type": "code",
   "execution_count": 78,
   "id": "phantom-standing",
   "metadata": {
    "scrolled": true
   },
   "outputs": [
    {
     "ename": "ValueError",
     "evalue": "list.remove(x): x not in list",
     "output_type": "error",
     "traceback": [
      "\u001b[1;31m---------------------------------------------------------------------------\u001b[0m",
      "\u001b[1;31mValueError\u001b[0m                                Traceback (most recent call last)",
      "\u001b[1;32m<ipython-input-78-27bfb888ea0c>\u001b[0m in \u001b[0;36m<module>\u001b[1;34m\u001b[0m\n\u001b[0;32m      1\u001b[0m \u001b[1;31m# 값으로 항목지우기 : 리스트이름.remove()\u001b[0m\u001b[1;33m\u001b[0m\u001b[1;33m\u001b[0m\u001b[1;33m\u001b[0m\u001b[0m\n\u001b[1;32m----> 2\u001b[1;33m \u001b[0mst\u001b[0m\u001b[1;33m.\u001b[0m\u001b[0mremove\u001b[0m\u001b[1;33m(\u001b[0m\u001b[1;34m\"이지은\"\u001b[0m\u001b[1;33m)\u001b[0m\u001b[1;33m\u001b[0m\u001b[1;33m\u001b[0m\u001b[0m\n\u001b[0m\u001b[0;32m      3\u001b[0m \u001b[0mst\u001b[0m\u001b[1;33m\u001b[0m\u001b[1;33m\u001b[0m\u001b[0m\n",
      "\u001b[1;31mValueError\u001b[0m: list.remove(x): x not in list"
     ]
    }
   ],
   "source": [
    "# 값으로 항목지우기 : 리스트이름.remove()\n",
    "st.remove(\"이지은\")\n",
    "st"
   ]
  },
  {
   "cell_type": "code",
   "execution_count": 80,
   "id": "joined-warner",
   "metadata": {},
   "outputs": [
    {
     "data": {
      "text/plain": [
       "['홍길동', '을지문덕', '춘향']"
      ]
     },
     "execution_count": 80,
     "metadata": {},
     "output_type": "execute_result"
    }
   ],
   "source": [
    "st"
   ]
  },
  {
   "cell_type": "code",
   "execution_count": 82,
   "id": "pregnant-cooling",
   "metadata": {},
   "outputs": [
    {
     "data": {
      "text/plain": [
       "['홍길동', '춘향', '을지문덕']"
      ]
     },
     "execution_count": 82,
     "metadata": {},
     "output_type": "execute_result"
    }
   ],
   "source": [
    "# 리스트의 정렬   리스트이름.sort()\n",
    "st.sort(reverse = True)\n",
    "st"
   ]
  },
  {
   "cell_type": "code",
   "execution_count": 83,
   "id": "romantic-ranking",
   "metadata": {},
   "outputs": [
    {
     "name": "stdout",
     "output_type": "stream",
     "text": [
      "홍길동\n",
      "춘향\n",
      "을지문덕\n"
     ]
    }
   ],
   "source": [
    "# 리스트에 대해 루프 실행하기\n",
    "print(st[0])\n",
    "print(st[1])\n",
    "print(st[2])"
   ]
  },
  {
   "cell_type": "code",
   "execution_count": 85,
   "id": "marine-zealand",
   "metadata": {},
   "outputs": [
    {
     "name": "stdout",
     "output_type": "stream",
     "text": [
      "홍길동\n",
      "춘향\n",
      "을지문덕\n"
     ]
    }
   ],
   "source": [
    "for name in st:\n",
    "    print(name)"
   ]
  },
  {
   "cell_type": "code",
   "execution_count": 89,
   "id": "undefined-generator",
   "metadata": {},
   "outputs": [
    {
     "name": "stdout",
     "output_type": "stream",
     "text": [
      "홍길동,hello\n",
      "춘향,hello\n",
      "을지문덕,hello\n"
     ]
    }
   ],
   "source": [
    "for name in st:\n",
    "    print(f\"{name},hello\")"
   ]
  },
  {
   "cell_type": "code",
   "execution_count": 91,
   "id": "signed-telling",
   "metadata": {},
   "outputs": [
    {
     "name": "stdout",
     "output_type": "stream",
     "text": [
      "Alice,that was a great trick!\n",
      "David,that was a great trick!\n",
      "Carolina,that was a great trick!\n"
     ]
    }
   ],
   "source": [
    "magicians = ['alice','david','carolina']\n",
    "for magician in magicians:\n",
    "    print(f\"{magician.title()},that was a great trick!\")"
   ]
  },
  {
   "cell_type": "code",
   "execution_count": 99,
   "id": "christian-company",
   "metadata": {},
   "outputs": [
    {
     "name": "stdout",
     "output_type": "stream",
     "text": [
      "Alice,that was a great trick!\n",
      "I cant't wait to see your next trick,Alice\n",
      "David,that was a great trick!\n",
      "I cant't wait to see your next trick,David\n",
      "Carolina,that was a great trick!\n",
      "I cant't wait to see your next trick,Carolina\n"
     ]
    }
   ],
   "source": [
    "for magician in magicians:\n",
    "    print(f\"{magician.title()},that was a great trick!\")\n",
    "    print(f\"I cant't wait to see your next trick,{magician.title()}\")"
   ]
  },
  {
   "cell_type": "code",
   "execution_count": 101,
   "id": "spatial-webcam",
   "metadata": {},
   "outputs": [
    {
     "name": "stdout",
     "output_type": "stream",
     "text": [
      "Alice,that was a great trick!\n",
      "I cant't wait to see your next trick,Alice\n",
      "thank you\n",
      "David,that was a great trick!\n",
      "I cant't wait to see your next trick,David\n",
      "thank you\n",
      "Carolina,that was a great trick!\n",
      "I cant't wait to see your next trick,Carolina\n",
      "thank you\n"
     ]
    }
   ],
   "source": [
    "for magician in magicians:\n",
    "    print(f\"{magician.title()},that was a great trick!\")\n",
    "    print(f\"I cant't wait to see your next trick,{magician.title()}\")\n",
    "    print(\"thank you\")"
   ]
  },
  {
   "cell_type": "code",
   "execution_count": 107,
   "id": "auburn-hunter",
   "metadata": {},
   "outputs": [
    {
     "name": "stdout",
     "output_type": "stream",
     "text": [
      "F\n",
      "C\n",
      "B\n",
      "A\n",
      "A\n"
     ]
    }
   ],
   "source": [
    "scores = [60,70,80,90,100]\n",
    "for score in scores:\n",
    "    if score >= 90:\n",
    "        print(\"A\")\n",
    "    elif 90>score>=80:\n",
    "        print(\"B\")\n",
    "    elif 80>score>=70:\n",
    "        print(\"C\")\n",
    "    else:\n",
    "        print(\"F\")"
   ]
  },
  {
   "cell_type": "code",
   "execution_count": 108,
   "id": "careful-facial",
   "metadata": {},
   "outputs": [
    {
     "name": "stdout",
     "output_type": "stream",
     "text": [
      "B\n"
     ]
    }
   ],
   "source": [
    "scores = [60,70,80,90,100]\n",
    "total = 0\n",
    "for score in scores:\n",
    "    total += score  # total = total + score\n",
    "\n",
    "avg = total / 5\n",
    "    \n",
    "if avg >= 90:\n",
    "    grade = \"A\"\n",
    "elif avg >= 80:\n",
    "    grade = \"B\"\n",
    "elif avg >= 70:\n",
    "    grade = \"C\"\n",
    "else :\n",
    "    grade = \"F\"\n",
    "\n",
    "print(grade)"
   ]
  }
 ],
 "metadata": {
  "kernelspec": {
   "display_name": "Python 3",
   "language": "python",
   "name": "python3"
  },
  "language_info": {
   "codemirror_mode": {
    "name": "ipython",
    "version": 3
   },
   "file_extension": ".py",
   "mimetype": "text/x-python",
   "name": "python",
   "nbconvert_exporter": "python",
   "pygments_lexer": "ipython3",
   "version": "3.9.1"
  }
 },
 "nbformat": 4,
 "nbformat_minor": 5
}
