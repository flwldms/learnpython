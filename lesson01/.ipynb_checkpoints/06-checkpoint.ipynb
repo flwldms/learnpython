{
 "cells": [
  {
   "cell_type": "markdown",
   "id": "aerial-pontiac",
   "metadata": {},
   "source": [
    "# 함수"
   ]
  },
  {
   "cell_type": "code",
   "execution_count": 7,
   "id": "continent-upset",
   "metadata": {},
   "outputs": [],
   "source": [
    "# 함수 정의\n",
    "# def 함수이름(패러미터리스트): (parameter , 인수 , 인자 , 매개변수)\n",
    "#  함수의 내용, function body\n",
    "def greetings(times):\n",
    "    if times == '아침':\n",
    "        print(\"아침은 드셧나요?\")\n",
    "    elif times == '점심':\n",
    "        print(\"날씨가 참좋아요\")\n",
    "    elif times == '저녁':\n",
    "        print(\"편히 쉬세요\")\n",
    "    else :\n",
    "        print(\"안녕하세요\")"
   ]
  },
  {
   "cell_type": "code",
   "execution_count": 8,
   "id": "academic-priority",
   "metadata": {},
   "outputs": [
    {
     "name": "stdout",
     "output_type": "stream",
     "text": [
      "1\n",
      "아침은 드셧나요?\n",
      "날씨가 참좋아요\n",
      "편히 쉬세요\n"
     ]
    }
   ],
   "source": [
    "# 함수 호출 , 함수 사용\n",
    "print(1)\n",
    "greetings('아침')\n",
    "greetings('점심')\n",
    "greetings('저녁')"
   ]
  },
  {
   "cell_type": "code",
   "execution_count": 9,
   "id": "coastal-voice",
   "metadata": {},
   "outputs": [],
   "source": [
    "def greetings(user,times):\n",
    "    if times == '아침':\n",
    "        print(f\"{user},아침은 드셧나요?\")\n",
    "    elif times == '점심':\n",
    "        print(f\"{user},날씨가 참좋아요\")\n",
    "    elif times == '저녁':\n",
    "        print(f\"{user},편히 쉬세요\")\n",
    "    else :\n",
    "        print(f\"{user},안녕하세요\")"
   ]
  },
  {
   "cell_type": "code",
   "execution_count": 13,
   "id": "earned-compound",
   "metadata": {},
   "outputs": [
    {
     "name": "stdout",
     "output_type": "stream",
     "text": [
      "아저씨,아침은 드셧나요?\n",
      "아주머니,날씨가 참좋아요\n",
      "아저씨,편히 쉬세요\n",
      "할머니,안녕하세요\n",
      "할머니,안녕하세요\n",
      "할머니,안녕하세요\n"
     ]
    }
   ],
   "source": [
    "greetings('아저씨','아침')\n",
    "greetings('아주머니','점심')\n",
    "greetings('아저씨','저녁')\n",
    "greetings('할머니',())\n",
    "greetings('할머니',1)\n",
    "greetings('할머니','')"
   ]
  },
  {
   "cell_type": "code",
   "execution_count": 15,
   "id": "threatened-vertex",
   "metadata": {},
   "outputs": [
    {
     "name": "stdout",
     "output_type": "stream",
     "text": [
      "\n",
      "I have a hamster.\n",
      "My hamster's name is harry'\n"
     ]
    }
   ],
   "source": [
    "def describ_pet(animal_type,pet_name):\n",
    "    print(f\"\\nI have a {animal_type}.\")\n",
    "    print(f\"My {animal_type}'s name is {pet_name}'\")\n",
    "    \n",
    "describ_pet(animal_type='hamster',pet_name='harry')"
   ]
  },
  {
   "cell_type": "code",
   "execution_count": 16,
   "id": "cheap-stone",
   "metadata": {},
   "outputs": [
    {
     "name": "stdout",
     "output_type": "stream",
     "text": [
      "\n",
      "I have a hamster.\n",
      "My hamster's name is harry'\n"
     ]
    }
   ],
   "source": [
    "def describ_pet(animal_type,pet_name):\n",
    "    print(f\"\\nI have a {animal_type}.\")\n",
    "    print(f\"My {animal_type}'s name is {pet_name}'\")\n",
    "    \n",
    "describ_pet(pet_name='harry',animal_type='hamster')"
   ]
  },
  {
   "cell_type": "code",
   "execution_count": 18,
   "id": "coated-vector",
   "metadata": {},
   "outputs": [
    {
     "name": "stdout",
     "output_type": "stream",
     "text": [
      "\n",
      "I have a hamster.\n",
      "My hamster's name is harry'\n"
     ]
    }
   ],
   "source": [
    "def describ_pet(animal_type,pet_name):\n",
    "    print(f\"\\nI have a {animal_type}.\")\n",
    "    print(f\"My {animal_type}'s name is {pet_name}\")\n",
    "    \n",
    "describ_pet('hamster','harry')"
   ]
  },
  {
   "cell_type": "code",
   "execution_count": 22,
   "id": "cellular-lesbian",
   "metadata": {},
   "outputs": [
    {
     "name": "stdout",
     "output_type": "stream",
     "text": [
      "SIZE:small,Message:a\n"
     ]
    }
   ],
   "source": [
    "def make_shirt(size,t):\n",
    "    print(f\"SIZE:{size},Message:{t}\")\n",
    "make_shirt('small','a')"
   ]
  },
  {
   "cell_type": "code",
   "execution_count": 24,
   "id": "hazardous-spain",
   "metadata": {},
   "outputs": [
    {
     "name": "stdout",
     "output_type": "stream",
     "text": [
      "4\n"
     ]
    }
   ],
   "source": [
    "# 함수의 반환값\n",
    "def add(n1,n2):\n",
    "    return n1 + n2   #result = n1 + n2\n",
    "                    # return result\n",
    "print(add(1,3))"
   ]
  },
  {
   "cell_type": "code",
   "execution_count": 27,
   "id": "beneficial-detection",
   "metadata": {},
   "outputs": [
    {
     "name": "stdout",
     "output_type": "stream",
     "text": [
      "{'first': 'jimi', 'last': 'hender', 'age': 13}\n"
     ]
    }
   ],
   "source": [
    "def bulid(first_name,last_name,age=None):\n",
    "    person = {'first':first_name,'last':last_name}\n",
    "    if age:\n",
    "        person['age'] = age\n",
    "    return person\n",
    "musician = bulid('jimi','hender',age = 13)\n",
    "print(musician)"
   ]
  },
  {
   "cell_type": "code",
   "execution_count": 28,
   "id": "together-annual",
   "metadata": {},
   "outputs": [
    {
     "name": "stdout",
     "output_type": "stream",
     "text": [
      "{'first': 'a', 'last': 's'}\n"
     ]
    }
   ],
   "source": [
    "musician = bulid('a','s')\n",
    "print(musician)"
   ]
  },
  {
   "cell_type": "code",
   "execution_count": 33,
   "id": "exceptional-efficiency",
   "metadata": {},
   "outputs": [
    {
     "name": "stdout",
     "output_type": "stream",
     "text": [
      "Santiago,Chile\n"
     ]
    }
   ],
   "source": [
    "def city_country(city,country):\n",
    "    print(f\"{city},{country}\")\n",
    "    \n",
    "city_country('Santiago','Chile')"
   ]
  },
  {
   "cell_type": "code",
   "execution_count": 34,
   "id": "numeric-painting",
   "metadata": {},
   "outputs": [
    {
     "name": "stdout",
     "output_type": "stream",
     "text": [
      "('홍길동',)\n",
      "('a', 'b', 'c', 'd')\n"
     ]
    }
   ],
   "source": [
    "def chk_attend(*students):\n",
    "    print(students) \n",
    "    \n",
    "chk_attend('홍길동')\n",
    "chk_attend('a','b','c','d')"
   ]
  },
  {
   "cell_type": "code",
   "execution_count": 40,
   "id": "moral-works",
   "metadata": {},
   "outputs": [
    {
     "name": "stdout",
     "output_type": "stream",
     "text": [
      "{'z': 'p', 'm': 'j', 'B:': 'c', 'C:': 'v'}\n"
     ]
    }
   ],
   "source": [
    "def a(b,c,**d):\n",
    "    d['B:']=b\n",
    "    d['C:']=c\n",
    "    return d\n",
    "q = a('c','v',\n",
    "      z ='p',\n",
    "      m='j')\n",
    "print(q)"
   ]
  },
  {
   "cell_type": "code",
   "execution_count": 45,
   "id": "hourly-polls",
   "metadata": {},
   "outputs": [
    {
     "name": "stdout",
     "output_type": "stream",
     "text": [
      "{'age': 20, 'favorite': 'play', 't': 160, 'first_name': 'l', 'last_name': 'ze'}\n"
     ]
    }
   ],
   "source": [
    "def bulid_profile(first,last,**user_info):\n",
    "    user_info['first_name'] = first\n",
    "    user_info['last_name'] = last\n",
    "    return user_info\n",
    "\n",
    "user_profile = bulid_profile('l','ze',\n",
    "                             age=20,favorite='play',t=160)\n",
    "print(user_profile)"
   ]
  },
  {
   "cell_type": "code",
   "execution_count": null,
   "id": "choice-classic",
   "metadata": {},
   "outputs": [],
   "source": []
  }
 ],
 "metadata": {
  "kernelspec": {
   "display_name": "Python 3",
   "language": "python",
   "name": "python3"
  },
  "language_info": {
   "codemirror_mode": {
    "name": "ipython",
    "version": 3
   },
   "file_extension": ".py",
   "mimetype": "text/x-python",
   "name": "python",
   "nbconvert_exporter": "python",
   "pygments_lexer": "ipython3",
   "version": "3.9.1"
  }
 },
 "nbformat": 4,
 "nbformat_minor": 5
}
