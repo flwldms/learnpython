{
 "cells": [
  {
   "cell_type": "markdown",
   "id": "hearing-hygiene",
   "metadata": {},
   "source": [
    "# 3일차 수업  \n",
    "\n",
    "## 1. 1~2일차 수업내용 Remind  \n",
    "### 1.1 입출력함수  \n",
    " * 사용자로부터 데이터를 입력받기 위한 입력함수는?    \n",
    "a = input(\"a : \")  \n",
    "b = input(\"b : \")  \n",
    "result = a + b  \n",
    "print(a + \" + \" + b + \"=\" + result)     \n",
    "이 코드를 실행해보자  "
   ]
  },
  {
   "cell_type": "code",
   "execution_count": 1,
   "id": "psychological-vulnerability",
   "metadata": {},
   "outputs": [
    {
     "name": "stdout",
     "output_type": "stream",
     "text": [
      "a : 3\n",
      "b : 4\n",
      "3 + 4=34\n"
     ]
    }
   ],
   "source": [
    "a = input(\"a : \")\n",
    "b = input(\"b : \")\n",
    "result = a + b    # 두개의 숫자를 더하기 \n",
    "print(a + \" + \" + b + \"=\" + result)"
   ]
  },
  {
   "cell_type": "code",
   "execution_count": 2,
   "id": "rolled-screening",
   "metadata": {},
   "outputs": [
    {
     "data": {
      "text/plain": [
       "str"
      ]
     },
     "execution_count": 2,
     "metadata": {},
     "output_type": "execute_result"
    }
   ],
   "source": [
    "type(a)"
   ]
  },
  {
   "cell_type": "markdown",
   "id": "contemporary-component",
   "metadata": {},
   "source": [
    "위 실행코드는 오류가 발생한다. 오류의 내용을 확인하고 원인을 말해보세요.  \n",
    "input()함수를 통한 입력값은 ( 문자열 )이기 때문에 연산 적용이 안된 것입니다.  \n",
    "그래서 정수로 변환하는 과정이 필요한데.... int()함수를 사용하는 것입니다.  \n",
    "\n",
    "a = int(input(\"a: \"))  \n",
    "b = int(input(\"b: \"))  \n",
    "result = a + b    # 두개의 숫자를 더하기   \n",
    "print(a + \" + \" + b + \"=\" + result)  "
   ]
  },
  {
   "cell_type": "code",
   "execution_count": 4,
   "id": "mental-houston",
   "metadata": {},
   "outputs": [
    {
     "name": "stdout",
     "output_type": "stream",
     "text": [
      "a: 3\n",
      "b: 4\n",
      "7\n"
     ]
    }
   ],
   "source": [
    "a = int(input(\"a: \"))\n",
    "b = int(input(\"b: \"))\n",
    "result = a + b    # 두개의 숫자를 더하기 \n",
    "print(result)"
   ]
  },
  {
   "cell_type": "code",
   "execution_count": 5,
   "id": "registered-penalty",
   "metadata": {},
   "outputs": [
    {
     "data": {
      "text/plain": [
       "int"
      ]
     },
     "execution_count": 5,
     "metadata": {},
     "output_type": "execute_result"
    }
   ],
   "source": [
    "type(a)"
   ]
  },
  {
   "cell_type": "markdown",
   "id": "complete-essence",
   "metadata": {},
   "source": [
    "**사용자로부터 태어난 해를 입력받아 나이를 계산하는 프로그램을 작성해보자.**"
   ]
  },
  {
   "cell_type": "code",
   "execution_count": 6,
   "id": "streaming-somerset",
   "metadata": {},
   "outputs": [
    {
     "name": "stdout",
     "output_type": "stream",
     "text": [
      "태어난 해는? 2001\n",
      "2001년에 태어난 당신은 20살입니다.\n"
     ]
    }
   ],
   "source": [
    "# 프로그램을 작성하기 위해서는\n",
    "# 변수가 있어야 한다. \n",
    "birthYear = int(input(\"태어난 해는? \"))\n",
    "thisYear = 2021\n",
    "age = thisYear - birthYear\n",
    "print(str(birthYear) + \"년에 태어난 당신은 \" + str(age) + \"살입니다.\")"
   ]
  },
  {
   "cell_type": "markdown",
   "id": "classical-messenger",
   "metadata": {},
   "source": [
    "# 변수와 상수  \n",
    "**변수 Variable** : 프로그램에서 처리할 데이터를 보관하는 공간의 이름  \n",
    "**상수 Constant** : 변수에 저장되는 숫자 데이터 또는 문자/문자열 데이터 그 자체 literal.  \n",
    "**PI** = 3.141592  \n",
    "**변수의 형태, Type** : 변수에 보관되는 데이터의 모양과 크기를 type  \n",
    "숫자(int, float)/ 문자(char) / 문자열(string) / 부울(boolean)  "
   ]
  },
  {
   "cell_type": "code",
   "execution_count": 9,
   "id": "earned-sleep",
   "metadata": {},
   "outputs": [
    {
     "name": "stdout",
     "output_type": "stream",
     "text": [
      "False\n"
     ]
    }
   ],
   "source": [
    "#boolean\n",
    "a = 10 < 5\n",
    "type(a)\n",
    "print(a)"
   ]
  },
  {
   "cell_type": "markdown",
   "id": "seventh-paintball",
   "metadata": {},
   "source": [
    "* print()함수를 사용한 다양한 출력\n",
    " * 서식의 지정 : 정수 10진수 %d, 16진수 %x, 8진수 %o, 실수 %f, 한 글자 %c, 문자열 %s\n",
    "  * format과 함께 사용"
   ]
  },
  {
   "cell_type": "markdown",
   "id": "northern-cherry",
   "metadata": {},
   "source": [
    "** print()함수를 이용한 다양한 출력문을 구성해 봅시다.**"
   ]
  },
  {
   "cell_type": "code",
   "execution_count": 11,
   "id": "geographic-newton",
   "metadata": {},
   "outputs": [
    {
     "name": "stdout",
     "output_type": "stream",
     "text": [
      "00000000\n",
      "   20\n",
      " 20.0\n",
      "24\n",
      "14\n"
     ]
    }
   ],
   "source": [
    "a = 20\n",
    "print(\"00000000\")\n",
    "print(\"%5d\" % a)    # %d: 정수형 10진수 형태로 출력\n",
    "print(\"%5.1f\" % a)    # %x: 정수형 16진수 형태로 출력\n",
    "print(\"%o\" % a)    # %o: 정수형 8진수 형태로 출력\n",
    "print(\"%x\" % a)    # %x: 정수형 16진수 형태로 출력"
   ]
  },
  {
   "cell_type": "code",
   "execution_count": 12,
   "id": "painted-matter",
   "metadata": {},
   "outputs": [
    {
     "name": "stdout",
     "output_type": "stream",
     "text": [
      "12345678901234567\n",
      "20    20\n"
     ]
    }
   ],
   "source": [
    "print(\"12345678901234567\")\n",
    "print(\"{0:} {1:5}\".format(a, a))"
   ]
  },
  {
   "cell_type": "code",
   "execution_count": 13,
   "id": "ancient-conversion",
   "metadata": {},
   "outputs": [
    {
     "name": "stdout",
     "output_type": "stream",
     "text": [
      "한국 \n",
      "아이티전문\t학원\n"
     ]
    }
   ],
   "source": [
    "print(\"한국 \\n아이티전문\\t학원\")   # \\n : 줄바꿈, \\t : 탭, \\b"
   ]
  },
  {
   "cell_type": "markdown",
   "id": "outer-miami",
   "metadata": {},
   "source": [
    "**섭씨온도를 입력받아 화씨온도로 변환하여 출력하는 프로그램을 작성하시오. 단, 출력을 할 때 섭씨온도와 변환된 화씨온도를 함께 출력해주세요.소수점이하 2자리까지 표현하도록 하시오.**"
   ]
  },
  {
   "cell_type": "code",
   "execution_count": 15,
   "id": "noticed-bridges",
   "metadata": {},
   "outputs": [
    {
     "name": "stdout",
     "output_type": "stream",
     "text": [
      "섭씨 온도를 입력해주세요. : 0\n",
      " 0.00, 32.00\n",
      " 0.00 32.00 \n"
     ]
    }
   ],
   "source": [
    "tempC = int(input(\"섭씨 온도를 입력해주세요. : \"))\n",
    "tempF =  tempC * 1.8 + 32     # f = c * 1.8 + 32\n",
    "print(\"%5.2f, %5.2f\" % (tempC, tempF)) #1\n",
    "print(\"{0:5.2f} {1:5.2f} \".format(tempC, tempF)) #2"
   ]
  },
  {
   "cell_type": "markdown",
   "id": "knowing-malawi",
   "metadata": {},
   "source": [
    "# 연산자 : 산술, 관계, 논리"
   ]
  },
  {
   "cell_type": "code",
   "execution_count": 16,
   "id": "looking-central",
   "metadata": {},
   "outputs": [
    {
     "name": "stdout",
     "output_type": "stream",
     "text": [
      "3.3333333333333335\n",
      "3\n"
     ]
    }
   ],
   "source": [
    "# 몫을 취하는 연산자 : //\n",
    "print(10 / 3)\n",
    "print(10 // 3)"
   ]
  },
  {
   "cell_type": "code",
   "execution_count": 17,
   "id": "great-screening",
   "metadata": {},
   "outputs": [
    {
     "name": "stdout",
     "output_type": "stream",
     "text": [
      "1\n"
     ]
    }
   ],
   "source": [
    "# 나머지를구하는 연산자 : %\n",
    "print(10 % 3)"
   ]
  },
  {
   "cell_type": "code",
   "execution_count": 18,
   "id": "fitting-murder",
   "metadata": {},
   "outputs": [
    {
     "name": "stdout",
     "output_type": "stream",
     "text": [
      "27\n"
     ]
    }
   ],
   "source": [
    "# 거듭제곱을 구하는 연산자 : **\n",
    "print(3 ** 3)"
   ]
  },
  {
   "cell_type": "markdown",
   "id": "commercial-seating",
   "metadata": {},
   "source": [
    "**원의 반지름을 입력받아 면적을 구하는 프로그램을 작성하시오.**"
   ]
  },
  {
   "cell_type": "code",
   "execution_count": 20,
   "id": "assigned-bloom",
   "metadata": {},
   "outputs": [
    {
     "name": "stdout",
     "output_type": "stream",
     "text": [
      "원의 반지름은? 10\n",
      "314.1592\n",
      "314.1592\n"
     ]
    }
   ],
   "source": [
    "radius = float(input(\"원의 반지름은? \"))\n",
    "PI = 3.141592\n",
    "area = radius * radius * PI\n",
    "print(area)\n",
    "area = radius ** 2 * PI\n",
    "print(area)"
   ]
  },
  {
   "cell_type": "markdown",
   "id": "plastic-london",
   "metadata": {},
   "source": [
    "**숫자를 입력받아 홀수인지 짝수인지 판단하는 프로그램을 작성하시오.**"
   ]
  },
  {
   "cell_type": "code",
   "execution_count": 21,
   "id": "architectural-cradle",
   "metadata": {},
   "outputs": [
    {
     "name": "stdout",
     "output_type": "stream",
     "text": [
      "입력할 숫자는: 8\n",
      "짝수\n"
     ]
    }
   ],
   "source": [
    "Number = int(input(\"입력할 숫자는: \"))\n",
    "remainder = Number % 2\n",
    "if(remainder == 0) :\n",
    "    print(\"짝수\") \n",
    "else : print(\"홀수\")"
   ]
  }
 ],
 "metadata": {
  "kernelspec": {
   "display_name": "Python 3",
   "language": "python",
   "name": "python3"
  },
  "language_info": {
   "codemirror_mode": {
    "name": "ipython",
    "version": 3
   },
   "file_extension": ".py",
   "mimetype": "text/x-python",
   "name": "python",
   "nbconvert_exporter": "python",
   "pygments_lexer": "ipython3",
   "version": "3.9.1"
  }
 },
 "nbformat": 4,
 "nbformat_minor": 5
}
